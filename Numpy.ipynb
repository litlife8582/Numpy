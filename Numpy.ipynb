{
  "nbformat": 4,
  "nbformat_minor": 0,
  "metadata": {
    "colab": {
      "provenance": [],
      "authorship_tag": "ABX9TyNsIGE/m2aC50AAxjwVuytU",
      "include_colab_link": true
    },
    "kernelspec": {
      "name": "python3",
      "display_name": "Python 3"
    },
    "language_info": {
      "name": "python"
    }
  },
  "cells": [
    {
      "cell_type": "markdown",
      "metadata": {
        "id": "view-in-github",
        "colab_type": "text"
      },
      "source": [
        "<a href=\"https://colab.research.google.com/github/litlife8582/Numpy/blob/main/Numpy.ipynb\" target=\"_parent\"><img src=\"https://colab.research.google.com/assets/colab-badge.svg\" alt=\"Open In Colab\"/></a>"
      ]
    },
    {
      "cell_type": "code",
      "execution_count": 125,
      "metadata": {
        "id": "mza4Y8gJxzI-"
      },
      "outputs": [],
      "source": [
        "import numpy as np"
      ]
    },
    {
      "cell_type": "markdown",
      "source": [
        "Creation of numpy arrays and some basic functions\n"
      ],
      "metadata": {
        "id": "ahSuhugZ4jz7"
      }
    },
    {
      "cell_type": "markdown",
      "source": [
        "list_name={a,b,c,d}\n",
        "\n",
        "array_name=np.array(list_name)\n",
        "\n",
        "np.array-> converts data structures to numpy list"
      ],
      "metadata": {
        "id": "aE6Ac97N4G33"
      }
    },
    {
      "cell_type": "code",
      "source": [
        "list1={1,2,3,4,5,6}\n",
        "array1=np.array(list1)\n",
        "print(array1)\n",
        "\n",
        "tuple1=(1,2,3,4,5)\n",
        "arr=np.array(tuple1)\n",
        "print(arr)"
      ],
      "metadata": {
        "colab": {
          "base_uri": "https://localhost:8080/"
        },
        "id": "_An6XqOpyGtv",
        "outputId": "7d8d7cda-792f-4012-c8fd-2e459d61f443"
      },
      "execution_count": 126,
      "outputs": [
        {
          "output_type": "stream",
          "name": "stdout",
          "text": [
            "{1, 2, 3, 4, 5, 6}\n",
            "[1 2 3 4 5]\n"
          ]
        }
      ]
    },
    {
      "cell_type": "code",
      "source": [
        "#creating a 2D array or list of lists\n",
        "array2=np.array([[5,7],[6,8]])\n",
        "print(array2)"
      ],
      "metadata": {
        "colab": {
          "base_uri": "https://localhost:8080/"
        },
        "id": "e3Ko7wNQzI_5",
        "outputId": "1ec0734f-c53d-49ee-c726-2378e16e9bc1"
      },
      "execution_count": 127,
      "outputs": [
        {
          "output_type": "stream",
          "name": "stdout",
          "text": [
            "[[5 7]\n",
            " [6 8]]\n"
          ]
        }
      ]
    },
    {
      "cell_type": "markdown",
      "source": [
        "np.zeros- creates a two dimentional array with(row,coloumn) and zero as its elements"
      ],
      "metadata": {
        "id": "KhP4GOdc3APo"
      }
    },
    {
      "cell_type": "code",
      "source": [
        "array3=np.zeros((2,10))\n",
        "print(array3)"
      ],
      "metadata": {
        "colab": {
          "base_uri": "https://localhost:8080/"
        },
        "id": "UKk-93Od3FRk",
        "outputId": "ca8deb5e-c4a6-4f99-c58c-4d7bf122a021"
      },
      "execution_count": 128,
      "outputs": [
        {
          "output_type": "stream",
          "name": "stdout",
          "text": [
            "[[0. 0. 0. 0. 0. 0. 0. 0. 0. 0.]\n",
            " [0. 0. 0. 0. 0. 0. 0. 0. 0. 0.]]\n"
          ]
        }
      ]
    },
    {
      "cell_type": "markdown",
      "source": [
        "np.full((rows,columns),element)- 2d array made of gven element"
      ],
      "metadata": {
        "id": "8gr8Dgg33dnH"
      }
    },
    {
      "cell_type": "code",
      "source": [
        "array4=np.full((2,10),6)\n",
        "print(array4)"
      ],
      "metadata": {
        "colab": {
          "base_uri": "https://localhost:8080/"
        },
        "id": "YyxVCNBt3q0X",
        "outputId": "49082aef-4b3b-48fb-a3cf-2dbc4b432e4f"
      },
      "execution_count": 129,
      "outputs": [
        {
          "output_type": "stream",
          "name": "stdout",
          "text": [
            "[[6 6 6 6 6 6 6 6 6 6]\n",
            " [6 6 6 6 6 6 6 6 6 6]]\n"
          ]
        }
      ]
    },
    {
      "cell_type": "markdown",
      "source": [
        "Creating Multidimentional Arrays using array creation functions\n",
        "\n",
        "1D array\n",
        "np.arange and np.linspace\n"
      ],
      "metadata": {
        "id": "u8NdCXrS4_M3"
      }
    },
    {
      "cell_type": "markdown",
      "source": [
        "np.arange\n",
        "\n",
        "Parameters:\n",
        "\n",
        "1.start (optional): The starting value of the sequence (default is 0).\n",
        "\n",
        "2.stop (required): The end value (exclusive).\n",
        "\n",
        "3.step (optional): The step size between values (default is 1).\n",
        "\n",
        "4.dtype (optional): The data type of the output array.\n",
        "\n",
        "Syntax of np.arange function:\n",
        "\n",
        "numpy.arange([start, ]stop, [step, ], dtype=None)\n"
      ],
      "metadata": {
        "id": "NfqGmjXS0hqO"
      }
    },
    {
      "cell_type": "code",
      "source": [
        "array5=np.arange(2,10,dtype=float)#prints an array of elements having float datatype with default step size 1\n",
        "print(array5)\n",
        "\n",
        "#with stepsize 0.5\n",
        "array5=np.arange(2,10,0.5,dtype=float)\n",
        "print(array5)"
      ],
      "metadata": {
        "colab": {
          "base_uri": "https://localhost:8080/"
        },
        "id": "Skenc4ADz_9C",
        "outputId": "0dbb04b1-76b0-4cb7-bc0a-69d7445d4ff4"
      },
      "execution_count": 130,
      "outputs": [
        {
          "output_type": "stream",
          "name": "stdout",
          "text": [
            "[2. 3. 4. 5. 6. 7. 8. 9.]\n",
            "[2.  2.5 3.  3.5 4.  4.5 5.  5.5 6.  6.5 7.  7.5 8.  8.5 9.  9.5]\n"
          ]
        }
      ]
    },
    {
      "cell_type": "markdown",
      "source": [
        "np.linspace():\n",
        "numpy.linspace() is used to generate an array of evenly spaced numbers over a specified range.\n",
        "\n",
        "Parameters:\n",
        "\n",
        "1.start (required): The starting value of the sequence.\n",
        "\n",
        "2.stop (required): The end value of the sequence.\n",
        "\n",
        "3.num (optional, default=50): Number of values to generate.\n",
        "\n",
        "4.endpoint (optional, default=True): If True, includes stop; if False, excludes it.\n",
        "5.retstep (optional, default=False): If True, returns the step size along with the array.\n",
        "\n",
        "6.dtype (optional): Specifies the data type of the output array.\n",
        "\n",
        "\n",
        "\n",
        "Syntax:\n",
        "\n",
        "numpy.linspace(start, stop, num=50, endpoint=True, retstep=False, dtype=None)\n"
      ],
      "metadata": {
        "id": "shhEXDlJ12NT"
      }
    },
    {
      "cell_type": "code",
      "source": [
        "array6=np.linspace(2,5,num=5,dtype=float)\n",
        "print(array6)"
      ],
      "metadata": {
        "colab": {
          "base_uri": "https://localhost:8080/"
        },
        "id": "KsJTTo6j2ed7",
        "outputId": "ab5f272c-3e93-49d2-9030-2df9b9a10ae5"
      },
      "execution_count": 131,
      "outputs": [
        {
          "output_type": "stream",
          "name": "stdout",
          "text": [
            "[2.   2.75 3.5  4.25 5.  ]\n"
          ]
        }
      ]
    },
    {
      "cell_type": "markdown",
      "source": [
        "Slicing Numpy Arrays\n"
      ],
      "metadata": {
        "id": "R6_bxqU74wum"
      }
    },
    {
      "cell_type": "markdown",
      "source": [
        "np_array_name[start_index,end_index]: slices a numpy array from start to end index(does not include last index)"
      ],
      "metadata": {
        "id": "gQ_E0hUM5RP5"
      }
    },
    {
      "cell_type": "code",
      "source": [
        "np1=np.array([3,-1,0,1,2,3,4,5,6,7,8,9]);\n",
        "\n",
        "print(np1[1:5])#slicing an list same as python"
      ],
      "metadata": {
        "colab": {
          "base_uri": "https://localhost:8080/"
        },
        "id": "2pcI5dxh43Np",
        "outputId": "8c709eda-26ea-4187-fa71-6066b7256976"
      },
      "execution_count": 132,
      "outputs": [
        {
          "output_type": "stream",
          "name": "stdout",
          "text": [
            "[-1  0  1  2]\n"
          ]
        }
      ]
    },
    {
      "cell_type": "markdown",
      "source": [
        "Return from somthing till the end of the array\n",
        "np_array_name[start_index: ]"
      ],
      "metadata": {
        "id": "VlxtBSB45nnZ"
      }
    },
    {
      "cell_type": "code",
      "source": [
        "print(np1[4:])"
      ],
      "metadata": {
        "colab": {
          "base_uri": "https://localhost:8080/"
        },
        "id": "nO-z47Bc5vFE",
        "outputId": "99e4ec7c-d9e6-46fd-af72-58d647857929"
      },
      "execution_count": 133,
      "outputs": [
        {
          "output_type": "stream",
          "name": "stdout",
          "text": [
            "[2 3 4 5 6 7 8 9]\n"
          ]
        }
      ]
    },
    {
      "cell_type": "markdown",
      "source": [
        "Negative index:"
      ],
      "metadata": {
        "id": "eXZs9eDR6BXj"
      }
    },
    {
      "cell_type": "code",
      "source": [
        "print(np1[-3:-1])"
      ],
      "metadata": {
        "colab": {
          "base_uri": "https://localhost:8080/"
        },
        "id": "I0lgtaJw6EFD",
        "outputId": "e4493276-04d5-4446-f754-e973541e6a62"
      },
      "execution_count": 134,
      "outputs": [
        {
          "output_type": "stream",
          "name": "stdout",
          "text": [
            "[7 8]\n"
          ]
        }
      ]
    },
    {
      "cell_type": "markdown",
      "source": [
        "Steping across elements\n"
      ],
      "metadata": {
        "id": "1QI_0SRK6VwM"
      }
    },
    {
      "cell_type": "code",
      "source": [
        "print(np1[2:7:2])"
      ],
      "metadata": {
        "colab": {
          "base_uri": "https://localhost:8080/"
        },
        "id": "j-D9tw0n6YV7",
        "outputId": "6691c433-aa44-476d-d72b-f3e447391360"
      },
      "execution_count": 135,
      "outputs": [
        {
          "output_type": "stream",
          "name": "stdout",
          "text": [
            "[0 2 4]\n"
          ]
        }
      ]
    },
    {
      "cell_type": "markdown",
      "source": [
        "Slicing 2d array"
      ],
      "metadata": {
        "id": "rurb4Wo-6rAv"
      }
    },
    {
      "cell_type": "code",
      "source": [
        "np2d=np.array([[1,2,3,4,5],[6,7,8,9,10]])\n",
        "print(np2d)"
      ],
      "metadata": {
        "colab": {
          "base_uri": "https://localhost:8080/"
        },
        "id": "uhLdutJK6yyq",
        "outputId": "a37358d0-257d-4449-9e8a-3dc1548f21aa"
      },
      "execution_count": 136,
      "outputs": [
        {
          "output_type": "stream",
          "name": "stdout",
          "text": [
            "[[ 1  2  3  4  5]\n",
            " [ 6  7  8  9 10]]\n"
          ]
        }
      ]
    },
    {
      "cell_type": "markdown",
      "source": [
        "numpy_array_name[start_row:end_row,start_column:end_column]\n",
        "\n",
        "-> elements starting from start row and ending one before the end row.\n",
        "\n",
        "->Similarly for columns"
      ],
      "metadata": {
        "id": "B4SCYnzk7u0W"
      }
    },
    {
      "cell_type": "code",
      "source": [
        "print(np2d[0:1,1:3])#excludes row 1 so slices only 0th row"
      ],
      "metadata": {
        "colab": {
          "base_uri": "https://localhost:8080/"
        },
        "id": "KACKo_dt7GOq",
        "outputId": "f2e78b3b-8cf0-4fa6-af86-65d735c78216"
      },
      "execution_count": 137,
      "outputs": [
        {
          "output_type": "stream",
          "name": "stdout",
          "text": [
            "[[2 3]]\n"
          ]
        }
      ]
    },
    {
      "cell_type": "code",
      "source": [
        "print(np2d[0:2,1:3])#excludes row 2(does not exists) so slices noly 0th and 1st rows"
      ],
      "metadata": {
        "colab": {
          "base_uri": "https://localhost:8080/"
        },
        "id": "3UvnLRWI7lKi",
        "outputId": "dedf215c-4d59-4bbf-8961-69a6320445a0"
      },
      "execution_count": 138,
      "outputs": [
        {
          "output_type": "stream",
          "name": "stdout",
          "text": [
            "[[2 3]\n",
            " [7 8]]\n"
          ]
        }
      ]
    },
    {
      "cell_type": "code",
      "source": [
        "np3d=np.array([[[1,2,3],[4,5,6,],[7,8,9],[10,11,12]]])#creating a 3d array"
      ],
      "metadata": {
        "id": "uuu_SoR2LGYz"
      },
      "execution_count": 139,
      "outputs": []
    },
    {
      "cell_type": "markdown",
      "source": [
        "Universal Functions in Numpy"
      ],
      "metadata": {
        "id": "jmHLeoOV882E"
      }
    },
    {
      "cell_type": "markdown",
      "source": [
        "Square Root of each elements\n",
        "\n",
        "np.sqrt(numpy_array)"
      ],
      "metadata": {
        "id": "utmV5NDUAbpa"
      }
    },
    {
      "cell_type": "code",
      "source": [
        "print(np.sqrt(np1))"
      ],
      "metadata": {
        "colab": {
          "base_uri": "https://localhost:8080/"
        },
        "id": "EbcCj3Rb_bV0",
        "outputId": "afa140e7-a569-44e5-b133-a80bd8406933"
      },
      "execution_count": 140,
      "outputs": [
        {
          "output_type": "stream",
          "name": "stdout",
          "text": [
            "[1.73205081        nan 0.         1.         1.41421356 1.73205081\n",
            " 2.         2.23606798 2.44948974 2.64575131 2.82842712 3.        ]\n"
          ]
        },
        {
          "output_type": "stream",
          "name": "stderr",
          "text": [
            "<ipython-input-140-021a376fbfc6>:1: RuntimeWarning: invalid value encountered in sqrt\n",
            "  print(np.sqrt(np1))\n"
          ]
        }
      ]
    },
    {
      "cell_type": "markdown",
      "source": [
        "Absolute Value of a function\n",
        "\n",
        "np.absolute(numpy_array)"
      ],
      "metadata": {
        "id": "FabpZG1MAiTm"
      }
    },
    {
      "cell_type": "code",
      "source": [
        "print(np.absolute(np1))"
      ],
      "metadata": {
        "colab": {
          "base_uri": "https://localhost:8080/"
        },
        "id": "9DqImPpBAt1a",
        "outputId": "57b31869-8735-466b-c0de-0528158ed43c"
      },
      "execution_count": 141,
      "outputs": [
        {
          "output_type": "stream",
          "name": "stdout",
          "text": [
            "[3 1 0 1 2 3 4 5 6 7 8 9]\n"
          ]
        }
      ]
    },
    {
      "cell_type": "markdown",
      "source": [
        "Exponents:\n",
        "\n",
        "np.exp(np1)"
      ],
      "metadata": {
        "id": "6yEUF0TjBEvm"
      }
    },
    {
      "cell_type": "code",
      "source": [
        "print(np.exp(np1))"
      ],
      "metadata": {
        "colab": {
          "base_uri": "https://localhost:8080/"
        },
        "id": "qMDF64rHBKzW",
        "outputId": "d7df4c70-f964-4d3f-b0b3-25861e2b31f9"
      },
      "execution_count": 142,
      "outputs": [
        {
          "output_type": "stream",
          "name": "stdout",
          "text": [
            "[2.00855369e+01 3.67879441e-01 1.00000000e+00 2.71828183e+00\n",
            " 7.38905610e+00 2.00855369e+01 5.45981500e+01 1.48413159e+02\n",
            " 4.03428793e+02 1.09663316e+03 2.98095799e+03 8.10308393e+03]\n"
          ]
        }
      ]
    },
    {
      "cell_type": "markdown",
      "source": [],
      "metadata": {
        "id": "3rj_QPvjiktZ"
      }
    },
    {
      "cell_type": "markdown",
      "source": [
        "Min/Max:\n",
        "\n",
        "np.max(array_name)\n",
        "\n",
        "np.min(array_name)"
      ],
      "metadata": {
        "id": "GVVgW-5WBOwC"
      }
    },
    {
      "cell_type": "code",
      "source": [
        "print(np.max(np1))\n",
        "print(np.min(np1))"
      ],
      "metadata": {
        "colab": {
          "base_uri": "https://localhost:8080/"
        },
        "id": "G2WY2bX9BXoe",
        "outputId": "4827a3b7-827c-48f2-baa9-d1832c192c49"
      },
      "execution_count": 143,
      "outputs": [
        {
          "output_type": "stream",
          "name": "stdout",
          "text": [
            "9\n",
            "-1\n"
          ]
        }
      ]
    },
    {
      "cell_type": "markdown",
      "source": [
        "Sign:\n",
        "\n",
        "positive or negative"
      ],
      "metadata": {
        "id": "pmlVAQogBccV"
      }
    },
    {
      "cell_type": "code",
      "source": [
        "print(np.sign(np1))"
      ],
      "metadata": {
        "colab": {
          "base_uri": "https://localhost:8080/"
        },
        "id": "HNxOebjkBdGR",
        "outputId": "d87b3a59-06f5-416c-f5ef-d9ddec61206f"
      },
      "execution_count": 144,
      "outputs": [
        {
          "output_type": "stream",
          "name": "stdout",
          "text": [
            "[ 1 -1  0  1  1  1  1  1  1  1  1  1]\n"
          ]
        }
      ]
    },
    {
      "cell_type": "markdown",
      "source": [
        "Trignonometric and logarithmic functions\n"
      ],
      "metadata": {
        "id": "InaZj67OBnlJ"
      }
    },
    {
      "cell_type": "code",
      "source": [
        "print(np.sin(np1))\n",
        "print(np.cos(np1))\n",
        "print(np.tan(np1))\n",
        "print(np.log(np1))"
      ],
      "metadata": {
        "colab": {
          "base_uri": "https://localhost:8080/"
        },
        "id": "XlHecSgMBsRw",
        "outputId": "7c0107f4-55fa-40d2-dae5-b56465467a89"
      },
      "execution_count": 145,
      "outputs": [
        {
          "output_type": "stream",
          "name": "stdout",
          "text": [
            "[ 0.14112001 -0.84147098  0.          0.84147098  0.90929743  0.14112001\n",
            " -0.7568025  -0.95892427 -0.2794155   0.6569866   0.98935825  0.41211849]\n",
            "[-0.9899925   0.54030231  1.          0.54030231 -0.41614684 -0.9899925\n",
            " -0.65364362  0.28366219  0.96017029  0.75390225 -0.14550003 -0.91113026]\n",
            "[-0.14254654 -1.55740772  0.          1.55740772 -2.18503986 -0.14254654\n",
            "  1.15782128 -3.38051501 -0.29100619  0.87144798 -6.79971146 -0.45231566]\n",
            "[1.09861229        nan       -inf 0.         0.69314718 1.09861229\n",
            " 1.38629436 1.60943791 1.79175947 1.94591015 2.07944154 2.19722458]\n"
          ]
        },
        {
          "output_type": "stream",
          "name": "stderr",
          "text": [
            "<ipython-input-145-fee436291549>:4: RuntimeWarning: divide by zero encountered in log\n",
            "  print(np.log(np1))\n",
            "<ipython-input-145-fee436291549>:4: RuntimeWarning: invalid value encountered in log\n",
            "  print(np.log(np1))\n"
          ]
        }
      ]
    },
    {
      "cell_type": "markdown",
      "source": [
        "Copy vs View\n"
      ],
      "metadata": {
        "id": "2sp4bRf-c4XD"
      }
    },
    {
      "cell_type": "markdown",
      "source": [
        "View: Changes made in original array reflected in the secondary array\n",
        "\n",
        "\n",
        "View syntax\n",
        "\n",
        "new_array=original_array.view()"
      ],
      "metadata": {
        "id": "wEIYL1chdd3N"
      }
    },
    {
      "cell_type": "code",
      "source": [
        "np2=np1.view()\n",
        "\n",
        "print(f'Original NP1 {np1}')\n",
        "print(f'Original NP2 {np2}')\n",
        "\n",
        "np1[0]=41\n",
        "\n",
        "print(f'Modified NP1 {np1}')\n",
        "print(f'Modified NP2 {np2}')\n"
      ],
      "metadata": {
        "colab": {
          "base_uri": "https://localhost:8080/"
        },
        "id": "ZYz97ebqc-Ts",
        "outputId": "497f5254-50d6-46db-893e-20d7a5a24b19"
      },
      "execution_count": 146,
      "outputs": [
        {
          "output_type": "stream",
          "name": "stdout",
          "text": [
            "Original NP1 [ 3 -1  0  1  2  3  4  5  6  7  8  9]\n",
            "Original NP2 [ 3 -1  0  1  2  3  4  5  6  7  8  9]\n",
            "Modified NP1 [41 -1  0  1  2  3  4  5  6  7  8  9]\n",
            "Modified NP2 [41 -1  0  1  2  3  4  5  6  7  8  9]\n"
          ]
        }
      ]
    },
    {
      "cell_type": "markdown",
      "source": [
        "In case of view(),any change made in the new array will also be reflected in the original array"
      ],
      "metadata": {
        "id": "LJp5WecbeYrg"
      }
    },
    {
      "cell_type": "code",
      "source": [
        "np2[1]=90\n",
        "print(f'Modified NP1 {np1}')\n",
        "print(f'Modified NP2 {np2}')\n"
      ],
      "metadata": {
        "colab": {
          "base_uri": "https://localhost:8080/"
        },
        "id": "OARSL-G1eP_h",
        "outputId": "7b119eac-a794-4ac3-d9c0-6c3871bd93ee"
      },
      "execution_count": 147,
      "outputs": [
        {
          "output_type": "stream",
          "name": "stdout",
          "text": [
            "Modified NP1 [41 90  0  1  2  3  4  5  6  7  8  9]\n",
            "Modified NP2 [41 90  0  1  2  3  4  5  6  7  8  9]\n"
          ]
        }
      ]
    },
    {
      "cell_type": "markdown",
      "source": [
        "Copy: Change in original is not reflected in the copied array\n",
        "\n",
        "Copy Syntax:\n",
        "new_array=original_array.copy()"
      ],
      "metadata": {
        "id": "tuszJgd5dwDC"
      }
    },
    {
      "cell_type": "code",
      "source": [
        "np3=np1.copy()\n",
        "\n",
        "print(f'Original NP1 {np1}')\n",
        "print(f'Original NP3 {np3}')\n",
        "\n",
        "np1[0]=42\n",
        "\n",
        "print(f'Modified NP1 {np1}')\n",
        "print(f'Modified NP3 {np3}')"
      ],
      "metadata": {
        "colab": {
          "base_uri": "https://localhost:8080/"
        },
        "id": "WsyUQsi_d6gG",
        "outputId": "0a8c711e-f1e3-4684-f264-bfa7db36bb85"
      },
      "execution_count": 148,
      "outputs": [
        {
          "output_type": "stream",
          "name": "stdout",
          "text": [
            "Original NP1 [41 90  0  1  2  3  4  5  6  7  8  9]\n",
            "Original NP3 [41 90  0  1  2  3  4  5  6  7  8  9]\n",
            "Modified NP1 [42 90  0  1  2  3  4  5  6  7  8  9]\n",
            "Modified NP3 [41 90  0  1  2  3  4  5  6  7  8  9]\n"
          ]
        }
      ]
    },
    {
      "cell_type": "markdown",
      "source": [
        "Shape and Reshape Numpy Arrays"
      ],
      "metadata": {
        "id": "g75sCElofeqf"
      }
    },
    {
      "cell_type": "markdown",
      "source": [
        "To find the shape of a numpy array we use:\n",
        "\n",
        "'array_name.shape' function"
      ],
      "metadata": {
        "id": "03d2WQt6gXY2"
      }
    },
    {
      "cell_type": "markdown",
      "source": [
        "For one dimensional array it simply prints number of elements in the array"
      ],
      "metadata": {
        "id": "XItDCU7kgvDy"
      }
    },
    {
      "cell_type": "code",
      "source": [
        "print(np1.shape)"
      ],
      "metadata": {
        "colab": {
          "base_uri": "https://localhost:8080/"
        },
        "id": "zdvGCGjpf6Af",
        "outputId": "b76342c9-8946-4ce3-b1df-2e11a4e9b12e"
      },
      "execution_count": 149,
      "outputs": [
        {
          "output_type": "stream",
          "name": "stdout",
          "text": [
            "(12,)\n"
          ]
        }
      ]
    },
    {
      "cell_type": "markdown",
      "source": [
        "In two dimensional array it returns\n",
        "\n",
        "(no. of rows,no. of columns)"
      ],
      "metadata": {
        "id": "Cr5cpBVHg1WN"
      }
    },
    {
      "cell_type": "code",
      "source": [
        "print(np2.shape)"
      ],
      "metadata": {
        "colab": {
          "base_uri": "https://localhost:8080/"
        },
        "id": "G5iFgTlfgljG",
        "outputId": "bbb1afda-554a-44a7-dae3-e6e589c30044"
      },
      "execution_count": 150,
      "outputs": [
        {
          "output_type": "stream",
          "name": "stdout",
          "text": [
            "(12,)\n"
          ]
        }
      ]
    },
    {
      "cell_type": "markdown",
      "source": [
        "Reshaping :\n",
        "\n",
        "array_name.reshape(new_no_of rows,new_no_of columns)"
      ],
      "metadata": {
        "id": "veY2igq7hEi5"
      }
    },
    {
      "cell_type": "code",
      "source": [
        "print(np1.reshape(3,4))# reshaping 1D array into 2D array"
      ],
      "metadata": {
        "colab": {
          "base_uri": "https://localhost:8080/"
        },
        "id": "Y__ncAxEhQ5t",
        "outputId": "c0e56400-2a06-442d-999e-5bab6807ebe6"
      },
      "execution_count": 151,
      "outputs": [
        {
          "output_type": "stream",
          "name": "stdout",
          "text": [
            "[[42 90  0  1]\n",
            " [ 2  3  4  5]\n",
            " [ 6  7  8  9]]\n"
          ]
        }
      ]
    },
    {
      "cell_type": "code",
      "source": [
        "print(np1.reshape(3,2,2))# reshaping 1D array into 3 Darray"
      ],
      "metadata": {
        "colab": {
          "base_uri": "https://localhost:8080/"
        },
        "id": "SVMz0hlAhjy6",
        "outputId": "3adf50d2-cc23-44b4-bf47-1097b896e482"
      },
      "execution_count": 152,
      "outputs": [
        {
          "output_type": "stream",
          "name": "stdout",
          "text": [
            "[[[42 90]\n",
            "  [ 0  1]]\n",
            "\n",
            " [[ 2  3]\n",
            "  [ 4  5]]\n",
            "\n",
            " [[ 6  7]\n",
            "  [ 8  9]]]\n"
          ]
        }
      ]
    },
    {
      "cell_type": "code",
      "source": [
        "print(np2.reshape(-1))#flattening a 2D array into 1D array"
      ],
      "metadata": {
        "colab": {
          "base_uri": "https://localhost:8080/"
        },
        "id": "j2jntNgpiAFF",
        "outputId": "e9bc9845-86dc-4818-8325-9f205213b737"
      },
      "execution_count": 153,
      "outputs": [
        {
          "output_type": "stream",
          "name": "stdout",
          "text": [
            "[42 90  0  1  2  3  4  5  6  7  8  9]\n"
          ]
        }
      ]
    },
    {
      "cell_type": "markdown",
      "source": [
        "Iterating through Numpy Arrays\n"
      ],
      "metadata": {
        "id": "Hir8LwxEJgC6"
      }
    },
    {
      "cell_type": "code",
      "source": [
        "for x in np1:\n",
        "  print(x)#1d arrays"
      ],
      "metadata": {
        "colab": {
          "base_uri": "https://localhost:8080/"
        },
        "id": "rQUkATtYKAZU",
        "outputId": "c22dc2f2-b759-43bc-fffb-1e7600d1617e"
      },
      "execution_count": 154,
      "outputs": [
        {
          "output_type": "stream",
          "name": "stdout",
          "text": [
            "42\n",
            "90\n",
            "0\n",
            "1\n",
            "2\n",
            "3\n",
            "4\n",
            "5\n",
            "6\n",
            "7\n",
            "8\n",
            "9\n"
          ]
        }
      ]
    },
    {
      "cell_type": "code",
      "source": [
        "for x in np2d:\n",
        "  print(x)#2d arrays"
      ],
      "metadata": {
        "colab": {
          "base_uri": "https://localhost:8080/"
        },
        "id": "Bd_6KKNuKEQF",
        "outputId": "62e212c5-4c04-4dc5-b9e7-d3beadbd6dad"
      },
      "execution_count": 155,
      "outputs": [
        {
          "output_type": "stream",
          "name": "stdout",
          "text": [
            "[1 2 3 4 5]\n",
            "[ 6  7  8  9 10]\n"
          ]
        }
      ]
    },
    {
      "cell_type": "code",
      "source": [
        "for x in np2d:\n",
        "  for y in x:\n",
        "    print(y)#each element of a row"
      ],
      "metadata": {
        "colab": {
          "base_uri": "https://localhost:8080/"
        },
        "id": "N3WBgE4BKMUR",
        "outputId": "03bb9a07-60db-4540-b47b-c63a52648b4c"
      },
      "execution_count": 156,
      "outputs": [
        {
          "output_type": "stream",
          "name": "stdout",
          "text": [
            "1\n",
            "2\n",
            "3\n",
            "4\n",
            "5\n",
            "6\n",
            "7\n",
            "8\n",
            "9\n",
            "10\n"
          ]
        }
      ]
    },
    {
      "cell_type": "code",
      "source": [
        "for x in np3d:\n",
        "  for y in x:\n",
        "    for z in y:\n",
        "      print(z)#each element of row in 3d array"
      ],
      "metadata": {
        "colab": {
          "base_uri": "https://localhost:8080/"
        },
        "id": "UFxZ_EwELlvM",
        "outputId": "fab6d295-4682-4060-a823-8468f27daacf"
      },
      "execution_count": 157,
      "outputs": [
        {
          "output_type": "stream",
          "name": "stdout",
          "text": [
            "1\n",
            "2\n",
            "3\n",
            "4\n",
            "5\n",
            "6\n",
            "7\n",
            "8\n",
            "9\n",
            "10\n",
            "11\n",
            "12\n"
          ]
        }
      ]
    },
    {
      "cell_type": "markdown",
      "source": [
        "np.nditer() function\n",
        "\n",
        "Iterates through the basic units of whichever dimensional array present"
      ],
      "metadata": {
        "id": "yblDCZQEL4cx"
      }
    },
    {
      "cell_type": "code",
      "source": [
        "for x in np.nditer(np3d):\n",
        "  print(x)"
      ],
      "metadata": {
        "colab": {
          "base_uri": "https://localhost:8080/"
        },
        "id": "uWWeT1X0L8x-",
        "outputId": "04cccdaf-1c2f-44cc-f381-b0dfe469824d"
      },
      "execution_count": 158,
      "outputs": [
        {
          "output_type": "stream",
          "name": "stdout",
          "text": [
            "1\n",
            "2\n",
            "3\n",
            "4\n",
            "5\n",
            "6\n",
            "7\n",
            "8\n",
            "9\n",
            "10\n",
            "11\n",
            "12\n"
          ]
        }
      ]
    },
    {
      "cell_type": "markdown",
      "source": [
        "Sorting numpy arrays"
      ],
      "metadata": {
        "id": "cRQwKXSpMoUW"
      }
    },
    {
      "cell_type": "markdown",
      "source": [
        "np.sort()\n",
        "\n",
        "does not change the original array, prints a copy"
      ],
      "metadata": {
        "id": "CkMjxmN8MsTK"
      }
    },
    {
      "cell_type": "code",
      "source": [
        "unsorted=np.array([5,3,5,2,7,8,10,4,9])\n",
        "print(unsorted)\n",
        "print(np.sort(unsorted))"
      ],
      "metadata": {
        "colab": {
          "base_uri": "https://localhost:8080/"
        },
        "id": "5JzzFH4kMuT9",
        "outputId": "f35243f3-6388-4d6c-ded6-e8ed3ab4ef2e"
      },
      "execution_count": 159,
      "outputs": [
        {
          "output_type": "stream",
          "name": "stdout",
          "text": [
            "[ 5  3  5  2  7  8 10  4  9]\n",
            "[ 2  3  4  5  5  7  8  9 10]\n"
          ]
        }
      ]
    },
    {
      "cell_type": "code",
      "source": [
        "char=np.array([\"abc\",\"wef\",\"hyt\",\"eqwr\",\"powep\"])\n",
        "print(np.sort(char))"
      ],
      "metadata": {
        "colab": {
          "base_uri": "https://localhost:8080/"
        },
        "id": "CLkXFXiuNEz-",
        "outputId": "9cdb4051-f624-4f53-fe1a-3abb3515e334"
      },
      "execution_count": 160,
      "outputs": [
        {
          "output_type": "stream",
          "name": "stdout",
          "text": [
            "['abc' 'eqwr' 'hyt' 'powep' 'wef']\n"
          ]
        }
      ]
    },
    {
      "cell_type": "code",
      "source": [
        "boolean=np.array([True,False,False,True,True])\n",
        "print(np.sort(boolean))"
      ],
      "metadata": {
        "colab": {
          "base_uri": "https://localhost:8080/"
        },
        "id": "jDqmtDmdNS9Z",
        "outputId": "3d49d581-391a-413d-cf4e-d13193ee645b"
      },
      "execution_count": 161,
      "outputs": [
        {
          "output_type": "stream",
          "name": "stdout",
          "text": [
            "[False False  True  True  True]\n"
          ]
        }
      ]
    },
    {
      "cell_type": "markdown",
      "source": [
        "Searching Numpy"
      ],
      "metadata": {
        "id": "u9MNjBU5fDON"
      }
    },
    {
      "cell_type": "code",
      "source": [
        "a=np.where(np1==3)\n",
        "print(a[0])"
      ],
      "metadata": {
        "colab": {
          "base_uri": "https://localhost:8080/"
        },
        "id": "8V88cwVVfUyj",
        "outputId": "d15700dd-10ab-4ae8-98d8-a38d60ba4e43"
      },
      "execution_count": 162,
      "outputs": [
        {
          "output_type": "stream",
          "name": "stdout",
          "text": [
            "[5]\n"
          ]
        }
      ]
    },
    {
      "cell_type": "code",
      "source": [
        "#To find the even numbers\n",
        "b=np.where(np1 % 2==0)\n",
        "print(b[0])"
      ],
      "metadata": {
        "colab": {
          "base_uri": "https://localhost:8080/"
        },
        "id": "Ttwf4sShhi_0",
        "outputId": "8e62c475-c475-4223-df08-18daf08fe95c"
      },
      "execution_count": 163,
      "outputs": [
        {
          "output_type": "stream",
          "name": "stdout",
          "text": [
            "[ 0  1  2  4  6  8 10]\n"
          ]
        }
      ]
    },
    {
      "cell_type": "code",
      "source": [
        "#To find odd numbers\n",
        "c=np.where(np1%2==1);\n",
        "print(c[0])"
      ],
      "metadata": {
        "colab": {
          "base_uri": "https://localhost:8080/"
        },
        "id": "MCCxYD82h8kk",
        "outputId": "49a71b50-1ce1-400d-8271-e89c1adcd5dd"
      },
      "execution_count": 164,
      "outputs": [
        {
          "output_type": "stream",
          "name": "stdout",
          "text": [
            "[ 3  5  7  9 11]\n"
          ]
        }
      ]
    },
    {
      "cell_type": "markdown",
      "source": [
        "Filtering Numpy Arrays"
      ],
      "metadata": {
        "id": "m5UcLzOXiRq5"
      }
    },
    {
      "cell_type": "code",
      "source": [
        "x=[True,True,False,True,False,False,False,True,True,False,False,True]\n",
        "print(np1[x])"
      ],
      "metadata": {
        "colab": {
          "base_uri": "https://localhost:8080/"
        },
        "id": "INTnrc_biV6T",
        "outputId": "44dd4873-53d3-421f-e7fe-2fe104a1eb92"
      },
      "execution_count": 165,
      "outputs": [
        {
          "output_type": "stream",
          "name": "stdout",
          "text": [
            "[42 90  1  5  6  9]\n"
          ]
        }
      ]
    },
    {
      "cell_type": "markdown",
      "source": [
        "Creating a list by appyling some logic to determine whether the array element will be true or false"
      ],
      "metadata": {
        "id": "DpBJaUBzjZCL"
      }
    },
    {
      "cell_type": "code",
      "source": [
        "filtered=[]\n",
        "for thing in np1:\n",
        "  if thing % 2==0:\n",
        "      filtered.append(True)\n",
        "  else:\n",
        "    filtered.append(False)\n",
        "\n",
        "print(filtered)"
      ],
      "metadata": {
        "colab": {
          "base_uri": "https://localhost:8080/"
        },
        "id": "RLaWaGn3jApL",
        "outputId": "6b17d86c-df03-482f-fa4f-c8c0d1057997"
      },
      "execution_count": 166,
      "outputs": [
        {
          "output_type": "stream",
          "name": "stdout",
          "text": [
            "[True, True, True, False, True, False, True, False, True, False, True, False]\n"
          ]
        }
      ]
    },
    {
      "cell_type": "code",
      "source": [
        "print(np1[filtered])"
      ],
      "metadata": {
        "colab": {
          "base_uri": "https://localhost:8080/"
        },
        "id": "4qE3ZhumjUlw",
        "outputId": "12a985bf-29f8-43d5-9085-6fb8feab0b7a"
      },
      "execution_count": 167,
      "outputs": [
        {
          "output_type": "stream",
          "name": "stdout",
          "text": [
            "[42 90  0  2  4  6  8]\n"
          ]
        }
      ]
    },
    {
      "cell_type": "code",
      "source": [
        "filter=np1%2==0\n",
        "print(filter)\n",
        "print(np1[filter])"
      ],
      "metadata": {
        "colab": {
          "base_uri": "https://localhost:8080/"
        },
        "id": "ElcDFDI3juTL",
        "outputId": "564dfeaa-e09b-4618-bb2f-d61e3cbe3e62"
      },
      "execution_count": 168,
      "outputs": [
        {
          "output_type": "stream",
          "name": "stdout",
          "text": [
            "[ True  True  True False  True False  True False  True False  True False]\n",
            "[42 90  0  2  4  6  8]\n"
          ]
        }
      ]
    }
  ]
}