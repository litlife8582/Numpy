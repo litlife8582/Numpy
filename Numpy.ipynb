{
  "nbformat": 4,
  "nbformat_minor": 0,
  "metadata": {
    "colab": {
      "provenance": [],
      "authorship_tag": "ABX9TyNlua9sth/d9LuMWb9+VKn2",
      "include_colab_link": true
    },
    "kernelspec": {
      "name": "python3",
      "display_name": "Python 3"
    },
    "language_info": {
      "name": "python"
    }
  },
  "cells": [
    {
      "cell_type": "markdown",
      "metadata": {
        "id": "view-in-github",
        "colab_type": "text"
      },
      "source": [
        "<a href=\"https://colab.research.google.com/github/litlife8582/Numpy/blob/main/Numpy.ipynb\" target=\"_parent\"><img src=\"https://colab.research.google.com/assets/colab-badge.svg\" alt=\"Open In Colab\"/></a>"
      ]
    },
    {
      "cell_type": "code",
      "execution_count": 2,
      "metadata": {
        "id": "mza4Y8gJxzI-"
      },
      "outputs": [],
      "source": [
        "import numpy as np"
      ]
    },
    {
      "cell_type": "markdown",
      "source": [
        "Creation of numpy arrays and some basic functions\n"
      ],
      "metadata": {
        "id": "ahSuhugZ4jz7"
      }
    },
    {
      "cell_type": "markdown",
      "source": [
        "list_name={a,b,c,d}\n",
        "\n",
        "array_name=np.array(list_name)\n",
        "\n",
        "np.array-> converts data structures to numpy list"
      ],
      "metadata": {
        "id": "aE6Ac97N4G33"
      }
    },
    {
      "cell_type": "code",
      "source": [
        "list1={1,2,3,4,5,6}\n",
        "array1=np.array(list1)\n",
        "print(array1)\n",
        "\n",
        "tuple1=(1,2,3,4,5)\n",
        "arr=np.array(tuple1)\n",
        "print(arr)"
      ],
      "metadata": {
        "colab": {
          "base_uri": "https://localhost:8080/"
        },
        "id": "_An6XqOpyGtv",
        "outputId": "b3463858-1133-4b2b-807e-a572ac54fe5f"
      },
      "execution_count": null,
      "outputs": [
        {
          "output_type": "stream",
          "name": "stdout",
          "text": [
            "{1, 2, 3, 4, 5, 6}\n",
            "[1 2 3 4 5]\n"
          ]
        }
      ]
    },
    {
      "cell_type": "code",
      "source": [
        "#creating a 2D array or list of lists\n",
        "array2=np.array([[5,7],[6,8]])\n",
        "print(array2)"
      ],
      "metadata": {
        "colab": {
          "base_uri": "https://localhost:8080/"
        },
        "id": "e3Ko7wNQzI_5",
        "outputId": "e55f1924-db0c-4ada-c31d-f83307240377"
      },
      "execution_count": null,
      "outputs": [
        {
          "output_type": "stream",
          "name": "stdout",
          "text": [
            "[[5 7]\n",
            " [6 8]]\n"
          ]
        }
      ]
    },
    {
      "cell_type": "markdown",
      "source": [
        "np.zeros- creates a two dimentional array with(row,coloumn) and zero as its elements"
      ],
      "metadata": {
        "id": "KhP4GOdc3APo"
      }
    },
    {
      "cell_type": "code",
      "source": [
        "array3=np.zeros((2,10))\n",
        "print(array3)"
      ],
      "metadata": {
        "colab": {
          "base_uri": "https://localhost:8080/"
        },
        "id": "UKk-93Od3FRk",
        "outputId": "2522e63b-9c61-4380-d506-1f610d482570"
      },
      "execution_count": null,
      "outputs": [
        {
          "output_type": "stream",
          "name": "stdout",
          "text": [
            "[[0. 0. 0. 0. 0. 0. 0. 0. 0. 0.]\n",
            " [0. 0. 0. 0. 0. 0. 0. 0. 0. 0.]]\n"
          ]
        }
      ]
    },
    {
      "cell_type": "markdown",
      "source": [
        "np.full((rows,columns),element)- 2d array made of gven element"
      ],
      "metadata": {
        "id": "8gr8Dgg33dnH"
      }
    },
    {
      "cell_type": "code",
      "source": [
        "array4=np.full((2,10),6)\n",
        "print(array4)"
      ],
      "metadata": {
        "colab": {
          "base_uri": "https://localhost:8080/"
        },
        "id": "YyxVCNBt3q0X",
        "outputId": "915935ec-06ce-4239-b8f8-346aad3708a5"
      },
      "execution_count": null,
      "outputs": [
        {
          "output_type": "stream",
          "name": "stdout",
          "text": [
            "[[6 6 6 6 6 6 6 6 6 6]\n",
            " [6 6 6 6 6 6 6 6 6 6]]\n"
          ]
        }
      ]
    },
    {
      "cell_type": "markdown",
      "source": [
        "Creating Multidimentional Arrays using array creation functions\n",
        "\n",
        "1D array\n",
        "np.arange and np.linspace\n"
      ],
      "metadata": {
        "id": "u8NdCXrS4_M3"
      }
    },
    {
      "cell_type": "markdown",
      "source": [
        "np.arange\n",
        "\n",
        "Parameters:\n",
        "\n",
        "1.start (optional): The starting value of the sequence (default is 0).\n",
        "\n",
        "2.stop (required): The end value (exclusive).\n",
        "\n",
        "3.step (optional): The step size between values (default is 1).\n",
        "\n",
        "4.dtype (optional): The data type of the output array.\n",
        "\n",
        "Syntax of np.arange function:\n",
        "\n",
        "numpy.arange([start, ]stop, [step, ], dtype=None)\n"
      ],
      "metadata": {
        "id": "NfqGmjXS0hqO"
      }
    },
    {
      "cell_type": "code",
      "source": [
        "array5=np.arange(2,10,dtype=float)#prints an array of elements having float datatype with default step size 1\n",
        "print(array5)\n",
        "\n",
        "#with stepsize 0.5\n",
        "array5=np.arange(2,10,0.5,dtype=float)\n",
        "print(array5)"
      ],
      "metadata": {
        "colab": {
          "base_uri": "https://localhost:8080/"
        },
        "id": "Skenc4ADz_9C",
        "outputId": "5def3f94-fab1-44fe-ed83-f50a632f7c61"
      },
      "execution_count": null,
      "outputs": [
        {
          "output_type": "stream",
          "name": "stdout",
          "text": [
            "[2. 3. 4. 5. 6. 7. 8. 9.]\n",
            "[2.  2.5 3.  3.5 4.  4.5 5.  5.5 6.  6.5 7.  7.5 8.  8.5 9.  9.5]\n"
          ]
        }
      ]
    },
    {
      "cell_type": "markdown",
      "source": [
        "np.linspace():\n",
        "numpy.linspace() is used to generate an array of evenly spaced numbers over a specified range.\n",
        "\n",
        "Parameters:\n",
        "\n",
        "1.start (required): The starting value of the sequence.\n",
        "\n",
        "2.stop (required): The end value of the sequence.\n",
        "\n",
        "3.num (optional, default=50): Number of values to generate.\n",
        "\n",
        "4.endpoint (optional, default=True): If True, includes stop; if False, excludes it.\n",
        "5.retstep (optional, default=False): If True, returns the step size along with the array.\n",
        "\n",
        "6.dtype (optional): Specifies the data type of the output array.\n",
        "\n",
        "\n",
        "\n",
        "Syntax:\n",
        "\n",
        "numpy.linspace(start, stop, num=50, endpoint=True, retstep=False, dtype=None)\n"
      ],
      "metadata": {
        "id": "shhEXDlJ12NT"
      }
    },
    {
      "cell_type": "code",
      "source": [
        "array6=np.linspace(2,5,num=5,dtype=float)\n",
        "print(array6)"
      ],
      "metadata": {
        "colab": {
          "base_uri": "https://localhost:8080/"
        },
        "id": "KsJTTo6j2ed7",
        "outputId": "e91dc9c4-da16-428a-a48f-33ce20d5c5c5"
      },
      "execution_count": null,
      "outputs": [
        {
          "output_type": "stream",
          "name": "stdout",
          "text": [
            "[2.   2.75 3.5  4.25 5.  ]\n"
          ]
        }
      ]
    },
    {
      "cell_type": "markdown",
      "source": [
        "Slicing Numpy Arrays\n"
      ],
      "metadata": {
        "id": "R6_bxqU74wum"
      }
    },
    {
      "cell_type": "markdown",
      "source": [
        "np_array_name[start_index,end_index]: slices a numpy array from start to end index(does not include last index)"
      ],
      "metadata": {
        "id": "gQ_E0hUM5RP5"
      }
    },
    {
      "cell_type": "code",
      "source": [
        "np1=np.array([-4,-3,-2,-1,0,1,2,3,4,5,6,7,8,9]);\n",
        "\n",
        "print(np1[1:5])#slicing an list same as python"
      ],
      "metadata": {
        "colab": {
          "base_uri": "https://localhost:8080/"
        },
        "id": "2pcI5dxh43Np",
        "outputId": "9a8d6da7-3285-4cc3-ba7f-f7f09c794cab"
      },
      "execution_count": 5,
      "outputs": [
        {
          "output_type": "stream",
          "name": "stdout",
          "text": [
            "[-3 -2 -1  0]\n"
          ]
        }
      ]
    },
    {
      "cell_type": "markdown",
      "source": [
        "Return from somthing till the end of the array\n",
        "np_array_name[start_index: ]"
      ],
      "metadata": {
        "id": "VlxtBSB45nnZ"
      }
    },
    {
      "cell_type": "code",
      "source": [
        "print(np1[4:])"
      ],
      "metadata": {
        "colab": {
          "base_uri": "https://localhost:8080/"
        },
        "id": "nO-z47Bc5vFE",
        "outputId": "cca24f2d-b02f-4148-af46-c0f7b328a698"
      },
      "execution_count": null,
      "outputs": [
        {
          "output_type": "stream",
          "name": "stdout",
          "text": [
            "[0 1 2 3 4 5 6 7 8 9]\n"
          ]
        }
      ]
    },
    {
      "cell_type": "markdown",
      "source": [
        "Negative index:"
      ],
      "metadata": {
        "id": "eXZs9eDR6BXj"
      }
    },
    {
      "cell_type": "code",
      "source": [
        "print(np1[-3:-1])"
      ],
      "metadata": {
        "colab": {
          "base_uri": "https://localhost:8080/"
        },
        "id": "I0lgtaJw6EFD",
        "outputId": "fbcce6aa-52b3-452a-b9b0-44eafce11157"
      },
      "execution_count": null,
      "outputs": [
        {
          "output_type": "stream",
          "name": "stdout",
          "text": [
            "[7 8]\n"
          ]
        }
      ]
    },
    {
      "cell_type": "markdown",
      "source": [
        "Steping across elements\n"
      ],
      "metadata": {
        "id": "1QI_0SRK6VwM"
      }
    },
    {
      "cell_type": "code",
      "source": [
        "print(np1[2:7:2])"
      ],
      "metadata": {
        "colab": {
          "base_uri": "https://localhost:8080/"
        },
        "id": "j-D9tw0n6YV7",
        "outputId": "cc580786-fab4-4856-e44d-db7147ea4284"
      },
      "execution_count": null,
      "outputs": [
        {
          "output_type": "stream",
          "name": "stdout",
          "text": [
            "[-2  0  2]\n"
          ]
        }
      ]
    },
    {
      "cell_type": "markdown",
      "source": [
        "Slicing 2d array"
      ],
      "metadata": {
        "id": "rurb4Wo-6rAv"
      }
    },
    {
      "cell_type": "code",
      "source": [
        "np2=np.array([[1,2,3,4,5],[6,7,8,9,10]])\n",
        "print(np2)"
      ],
      "metadata": {
        "colab": {
          "base_uri": "https://localhost:8080/"
        },
        "id": "uhLdutJK6yyq",
        "outputId": "aaea0dd5-1227-438a-9da0-42b733fb16ac"
      },
      "execution_count": null,
      "outputs": [
        {
          "output_type": "stream",
          "name": "stdout",
          "text": [
            "[[ 1  2  3  4  5]\n",
            " [ 6  7  8  9 10]]\n"
          ]
        }
      ]
    },
    {
      "cell_type": "markdown",
      "source": [
        "numpy_array_name[start_row:end_row,start_column:end_column]\n",
        "\n",
        "-> elements starting from start row and ending one before the end row.\n",
        "\n",
        "->Similarly for columns"
      ],
      "metadata": {
        "id": "B4SCYnzk7u0W"
      }
    },
    {
      "cell_type": "code",
      "source": [
        "print(np2[0:1,1:3])#excludes row 1 so slices only 0th row"
      ],
      "metadata": {
        "colab": {
          "base_uri": "https://localhost:8080/"
        },
        "id": "KACKo_dt7GOq",
        "outputId": "47b24b3e-a4a0-4390-e218-fec610657b3b"
      },
      "execution_count": null,
      "outputs": [
        {
          "output_type": "stream",
          "name": "stdout",
          "text": [
            "[[2 3]]\n"
          ]
        }
      ]
    },
    {
      "cell_type": "code",
      "source": [
        "print(np2[0:2,1:3])#excludes row 2(does not exists) so slices noly 0th and 1st rows"
      ],
      "metadata": {
        "colab": {
          "base_uri": "https://localhost:8080/"
        },
        "id": "3UvnLRWI7lKi",
        "outputId": "0530c972-1a75-4b00-acc8-fb9a05e3bf6e"
      },
      "execution_count": null,
      "outputs": [
        {
          "output_type": "stream",
          "name": "stdout",
          "text": [
            "[[2 3]\n",
            " [7 8]]\n"
          ]
        }
      ]
    },
    {
      "cell_type": "markdown",
      "source": [
        "Universal Functions in Numpy"
      ],
      "metadata": {
        "id": "jmHLeoOV882E"
      }
    },
    {
      "cell_type": "markdown",
      "source": [
        "Square Root of each elements\n",
        "\n",
        "np.sqrt(numpy_array)"
      ],
      "metadata": {
        "id": "utmV5NDUAbpa"
      }
    },
    {
      "cell_type": "code",
      "source": [
        "print(np.sqrt(np1))"
      ],
      "metadata": {
        "colab": {
          "base_uri": "https://localhost:8080/"
        },
        "id": "EbcCj3Rb_bV0",
        "outputId": "1eadacf1-e816-4482-b46e-38ea07fc5f0d"
      },
      "execution_count": null,
      "outputs": [
        {
          "output_type": "stream",
          "name": "stdout",
          "text": [
            "[       nan        nan        nan        nan 0.         1.\n",
            " 1.41421356 1.73205081 2.         2.23606798 2.44948974 2.64575131\n",
            " 2.82842712 3.        ]\n"
          ]
        },
        {
          "output_type": "stream",
          "name": "stderr",
          "text": [
            "<ipython-input-42-021a376fbfc6>:1: RuntimeWarning: invalid value encountered in sqrt\n",
            "  print(np.sqrt(np1))\n"
          ]
        }
      ]
    },
    {
      "cell_type": "markdown",
      "source": [
        "Absolute Value of a function\n",
        "\n",
        "np.absolute(numpy_array)"
      ],
      "metadata": {
        "id": "FabpZG1MAiTm"
      }
    },
    {
      "cell_type": "code",
      "source": [
        "print(np.absolute(np1))"
      ],
      "metadata": {
        "colab": {
          "base_uri": "https://localhost:8080/"
        },
        "id": "9DqImPpBAt1a",
        "outputId": "a6af0659-a193-4dd6-cb5c-d9c41cf5d07f"
      },
      "execution_count": null,
      "outputs": [
        {
          "output_type": "stream",
          "name": "stdout",
          "text": [
            "[4 3 2 1 0 1 2 3 4 5 6 7 8 9]\n"
          ]
        }
      ]
    },
    {
      "cell_type": "markdown",
      "source": [
        "Exponents:\n",
        "\n",
        "np.exp(np1)"
      ],
      "metadata": {
        "id": "6yEUF0TjBEvm"
      }
    },
    {
      "cell_type": "code",
      "source": [
        "print(np.exp(np1))"
      ],
      "metadata": {
        "colab": {
          "base_uri": "https://localhost:8080/"
        },
        "id": "qMDF64rHBKzW",
        "outputId": "2ba562a2-53f2-4594-a6f4-5e6f728dba46"
      },
      "execution_count": null,
      "outputs": [
        {
          "output_type": "stream",
          "name": "stdout",
          "text": [
            "[1.83156389e-02 4.97870684e-02 1.35335283e-01 3.67879441e-01\n",
            " 1.00000000e+00 2.71828183e+00 7.38905610e+00 2.00855369e+01\n",
            " 5.45981500e+01 1.48413159e+02 4.03428793e+02 1.09663316e+03\n",
            " 2.98095799e+03 8.10308393e+03]\n"
          ]
        }
      ]
    },
    {
      "cell_type": "markdown",
      "source": [
        "Min/Max:\n",
        "\n",
        "np.max(array_name)\n",
        "\n",
        "np.min(array_name)"
      ],
      "metadata": {
        "id": "GVVgW-5WBOwC"
      }
    },
    {
      "cell_type": "code",
      "source": [
        "print(np.max(np1))\n",
        "print(np.min(np1))"
      ],
      "metadata": {
        "colab": {
          "base_uri": "https://localhost:8080/"
        },
        "id": "G2WY2bX9BXoe",
        "outputId": "db64b01d-a087-49d3-ad80-8646b07f2118"
      },
      "execution_count": null,
      "outputs": [
        {
          "output_type": "stream",
          "name": "stdout",
          "text": [
            "9\n",
            "-4\n"
          ]
        }
      ]
    },
    {
      "cell_type": "markdown",
      "source": [
        "Sign:\n",
        "\n",
        "positive or negative"
      ],
      "metadata": {
        "id": "pmlVAQogBccV"
      }
    },
    {
      "cell_type": "code",
      "source": [
        "print(np.sign(np1))"
      ],
      "metadata": {
        "colab": {
          "base_uri": "https://localhost:8080/"
        },
        "id": "HNxOebjkBdGR",
        "outputId": "0901a343-6ee9-483f-bc84-64a6dc56935a"
      },
      "execution_count": null,
      "outputs": [
        {
          "output_type": "stream",
          "name": "stdout",
          "text": [
            "[-1 -1 -1 -1  0  1  1  1  1  1  1  1  1  1]\n"
          ]
        }
      ]
    },
    {
      "cell_type": "markdown",
      "source": [
        "Trignonometric and logarithmic functions\n"
      ],
      "metadata": {
        "id": "InaZj67OBnlJ"
      }
    },
    {
      "cell_type": "code",
      "source": [
        "print(np.sin(np1))\n",
        "print(np.cos(np1))\n",
        "print(np.tan(np1))\n",
        "print(np.log(np1))"
      ],
      "metadata": {
        "colab": {
          "base_uri": "https://localhost:8080/"
        },
        "id": "XlHecSgMBsRw",
        "outputId": "4a2555c2-d39a-4cc9-89e1-8ab6913593b8"
      },
      "execution_count": null,
      "outputs": [
        {
          "output_type": "stream",
          "name": "stdout",
          "text": [
            "[ 0.7568025  -0.14112001 -0.90929743 -0.84147098  0.          0.84147098\n",
            "  0.90929743  0.14112001 -0.7568025  -0.95892427 -0.2794155   0.6569866\n",
            "  0.98935825  0.41211849]\n",
            "[-0.65364362 -0.9899925  -0.41614684  0.54030231  1.          0.54030231\n",
            " -0.41614684 -0.9899925  -0.65364362  0.28366219  0.96017029  0.75390225\n",
            " -0.14550003 -0.91113026]\n",
            "[-1.15782128  0.14254654  2.18503986 -1.55740772  0.          1.55740772\n",
            " -2.18503986 -0.14254654  1.15782128 -3.38051501 -0.29100619  0.87144798\n",
            " -6.79971146 -0.45231566]\n",
            "[       nan        nan        nan        nan       -inf 0.\n",
            " 0.69314718 1.09861229 1.38629436 1.60943791 1.79175947 1.94591015\n",
            " 2.07944154 2.19722458]\n"
          ]
        },
        {
          "output_type": "stream",
          "name": "stderr",
          "text": [
            "<ipython-input-51-fee436291549>:4: RuntimeWarning: divide by zero encountered in log\n",
            "  print(np.log(np1))\n",
            "<ipython-input-51-fee436291549>:4: RuntimeWarning: invalid value encountered in log\n",
            "  print(np.log(np1))\n"
          ]
        }
      ]
    },
    {
      "cell_type": "markdown",
      "source": [
        "Copy vs View\n"
      ],
      "metadata": {
        "id": "2sp4bRf-c4XD"
      }
    },
    {
      "cell_type": "markdown",
      "source": [
        "View: Changes made in original array reflected in the secondary array\n",
        "\n",
        "\n",
        "View syntax\n",
        "\n",
        "new_array=original_array.view()"
      ],
      "metadata": {
        "id": "wEIYL1chdd3N"
      }
    },
    {
      "cell_type": "code",
      "source": [
        "np2=np1.view()\n",
        "\n",
        "print(f'Original NP1 {np1}')\n",
        "print(f'Original NP2 {np2}')\n",
        "\n",
        "np1[0]=41\n",
        "\n",
        "print(f'Modified NP1 {np1}')\n",
        "print(f'Modified NP2 {np2}')\n"
      ],
      "metadata": {
        "colab": {
          "base_uri": "https://localhost:8080/"
        },
        "id": "ZYz97ebqc-Ts",
        "outputId": "c12da71c-d8c0-4b4b-9532-77521d105130"
      },
      "execution_count": 7,
      "outputs": [
        {
          "output_type": "stream",
          "name": "stdout",
          "text": [
            "Original NP1 [-4 -3 -2 -1  0  1  2  3  4  5  6  7  8  9]\n",
            "Original NP2 [-4 -3 -2 -1  0  1  2  3  4  5  6  7  8  9]\n",
            "Modified NP1 [41 -3 -2 -1  0  1  2  3  4  5  6  7  8  9]\n",
            "Modified NP2 [41 -3 -2 -1  0  1  2  3  4  5  6  7  8  9]\n"
          ]
        }
      ]
    },
    {
      "cell_type": "markdown",
      "source": [
        "In case of view(),any change made in the new array will also be reflected in the original array"
      ],
      "metadata": {
        "id": "LJp5WecbeYrg"
      }
    },
    {
      "cell_type": "code",
      "source": [
        "np2[1]=90\n",
        "print(f'Modified NP1 {np1}')\n",
        "print(f'Modified NP2 {np2}')\n"
      ],
      "metadata": {
        "colab": {
          "base_uri": "https://localhost:8080/"
        },
        "id": "OARSL-G1eP_h",
        "outputId": "4d725b69-8c5d-4927-a3d8-d8408a9dd498"
      },
      "execution_count": 9,
      "outputs": [
        {
          "output_type": "stream",
          "name": "stdout",
          "text": [
            "Modified NP1 [42 90 -2 -1  0  1  2  3  4  5  6  7  8  9]\n",
            "Modified NP2 [42 90 -2 -1  0  1  2  3  4  5  6  7  8  9]\n"
          ]
        }
      ]
    },
    {
      "cell_type": "markdown",
      "source": [
        "Copy: Change in original is not reflected in the copied array\n",
        "\n",
        "Copy Syntax:\n",
        "new_array=original_array.copy()"
      ],
      "metadata": {
        "id": "tuszJgd5dwDC"
      }
    },
    {
      "cell_type": "code",
      "source": [
        "np3=np1.copy()\n",
        "\n",
        "print(f'Original NP1 {np1}')\n",
        "print(f'Original NP3 {np3}')\n",
        "\n",
        "np1[0]=42\n",
        "\n",
        "print(f'Modified NP1 {np1}')\n",
        "print(f'Modified NP3 {np3}')"
      ],
      "metadata": {
        "colab": {
          "base_uri": "https://localhost:8080/"
        },
        "id": "WsyUQsi_d6gG",
        "outputId": "795c0989-a55b-43a3-eed2-73680c2692c4"
      },
      "execution_count": 8,
      "outputs": [
        {
          "output_type": "stream",
          "name": "stdout",
          "text": [
            "Original NP1 [41 -3 -2 -1  0  1  2  3  4  5  6  7  8  9]\n",
            "Original NP3 [41 -3 -2 -1  0  1  2  3  4  5  6  7  8  9]\n",
            "Modified NP1 [42 -3 -2 -1  0  1  2  3  4  5  6  7  8  9]\n",
            "Modified NP3 [41 -3 -2 -1  0  1  2  3  4  5  6  7  8  9]\n"
          ]
        }
      ]
    }
  ]
}